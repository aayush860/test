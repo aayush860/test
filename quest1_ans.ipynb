{
 "cells": [
  {
   "cell_type": "code",
   "execution_count": 6,
   "metadata": {},
   "outputs": [
    {
     "name": "stdout",
     "output_type": "stream",
     "text": [
      "['Monday', 'Saturday', 'Thursday', 'Wednesday', 'Friday']\n"
     ]
    }
   ],
   "source": [
    "#!/usr/bin/env python3\n",
    "# -*- coding: utf-8 -*-\n",
    "\"\"\"\n",
    "Created on Wed Nov 27 19:30:34 2019\n",
    "\n",
    "@author: aayushbhargava\n",
    "\"\"\"\n",
    "\n",
    "import requests\n",
    "website='https://jsoneditoronline.herokuapp.com/v1/docs/774466adf5834d26bc7c839fe7b366ef'\n",
    "i=requests.get(website)\n",
    "k=i.json()\n",
    "d=k['data']\n",
    "o=d.split('start_time')\n",
    "lis=[]\n",
    "for x in o:\n",
    "    try:\n",
    "        j=x.split('\"day_of_the_week\": \"')[1].split('\",')[0]\n",
    "        lis.append(j)\n",
    "    except:\n",
    "        pass\n",
    "\n",
    "print (list(set(lis)))"
   ]
  },
  {
   "cell_type": "code",
   "execution_count": null,
   "metadata": {},
   "outputs": [],
   "source": []
  }
 ],
 "metadata": {
  "kernelspec": {
   "display_name": "Python 3",
   "language": "python",
   "name": "python3"
  },
  "language_info": {
   "codemirror_mode": {
    "name": "ipython",
    "version": 3
   },
   "file_extension": ".py",
   "mimetype": "text/x-python",
   "name": "python",
   "nbconvert_exporter": "python",
   "pygments_lexer": "ipython3",
   "version": "3.7.3"
  }
 },
 "nbformat": 4,
 "nbformat_minor": 4
}

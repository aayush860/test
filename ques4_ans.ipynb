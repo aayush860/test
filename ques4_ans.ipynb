{
 "cells": [
  {
   "cell_type": "code",
   "execution_count": 8,
   "metadata": {},
   "outputs": [
    {
     "name": "stdout",
     "output_type": "stream",
     "text": [
      "[[0], [1], [-2, 4]]\n"
     ]
    }
   ],
   "source": [
    "#!/usr/bin/env python3\n",
    "# -*- coding: utf-8 -*-\n",
    "\"\"\"\n",
    "Created on Wed Nov 27 19:30:34 2019\n",
    "\n",
    "@author: aayushbhargava\n",
    "\"\"\"\n",
    "\n",
    "yyy=[[0],[-2,4],[1]]\n",
    "for x in range(0,len(yyy)):\n",
    "    for xx in range(x+1,len(yyy)):\n",
    "        if sum(yyy[x])>sum(yyy[xx]):\n",
    "            a=yyy[x]\n",
    "            yyy[x]=yyy[xx]\n",
    "            yyy[xx]=a\n",
    "print (yyy)"
   ]
  },
  {
   "cell_type": "code",
   "execution_count": null,
   "metadata": {},
   "outputs": [],
   "source": []
  }
 ],
 "metadata": {
  "kernelspec": {
   "display_name": "Python 3",
   "language": "python",
   "name": "python3"
  },
  "language_info": {
   "codemirror_mode": {
    "name": "ipython",
    "version": 3
   },
   "file_extension": ".py",
   "mimetype": "text/x-python",
   "name": "python",
   "nbconvert_exporter": "python",
   "pygments_lexer": "ipython3",
   "version": "3.7.3"
  }
 },
 "nbformat": 4,
 "nbformat_minor": 4
}
